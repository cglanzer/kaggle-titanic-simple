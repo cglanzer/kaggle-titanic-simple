{
 "cells": [
  {
   "cell_type": "markdown",
   "id": "5dc21499-9dee-4af0-bde0-7a69073a5c1f",
   "metadata": {},
   "source": [
    "## A simple model reaching top 6% on Kaggle's \"Titanic\" competition\n",
    "The goal of Kaggle's [\"Titanic\" - competition](https://www.kaggle.com/c/titanic/) is to forecast whether a passenger survives the sinking of the ship, given various data such as age, sex or the number of family members onboard. Although almost overused and overly documented, I wanted to participate in this challenge to practice my scikit-learn skills. This notebook provides a relatively simple SVM model which reaches a top 6% position (~80% correct predictions) on the leaderboard. To do so, I'm combining some of the features extracted by Kaggle user [javiervallejos](https://www.kaggle.com/javiervallejos/) with my own ideas.\n",
    "\n",
    "We begin by loading and inspecting the dataset. For a complete description of the features given in the data, see https://www.kaggle.com/c/titanic/."
   ]
  },
  {
   "cell_type": "code",
   "execution_count": 1,
   "id": "dc550a06-f2c5-4705-90b1-908754b6d70d",
   "metadata": {},
   "outputs": [
    {
     "name": "stdout",
     "output_type": "stream",
     "text": [
      "Index(['PassengerId', 'Survived', 'Pclass', 'Name', 'Sex', 'Age', 'SibSp',\n",
      "       'Parch', 'Ticket', 'Fare', 'Cabin', 'Embarked'],\n",
      "      dtype='object')\n",
      "\n",
      "<class 'pandas.core.frame.DataFrame'>\n",
      "Int64Index: 1309 entries, 0 to 417\n",
      "Data columns (total 12 columns):\n",
      " #   Column       Non-Null Count  Dtype  \n",
      "---  ------       --------------  -----  \n",
      " 0   PassengerId  1309 non-null   int64  \n",
      " 1   Survived     891 non-null    float64\n",
      " 2   Pclass       1309 non-null   int64  \n",
      " 3   Name         1309 non-null   object \n",
      " 4   Sex          1309 non-null   object \n",
      " 5   Age          1046 non-null   float64\n",
      " 6   SibSp        1309 non-null   int64  \n",
      " 7   Parch        1309 non-null   int64  \n",
      " 8   Ticket       1309 non-null   object \n",
      " 9   Fare         1308 non-null   float64\n",
      " 10  Cabin        295 non-null    object \n",
      " 11  Embarked     1307 non-null   object \n",
      "dtypes: float64(3), int64(4), object(5)\n",
      "memory usage: 132.9+ KB\n",
      "None\n"
     ]
    }
   ],
   "source": [
    "import numpy as np\n",
    "import pandas as pd\n",
    "from sklearn.pipeline import Pipeline\n",
    "from sklearn.model_selection import train_test_split\n",
    "from sklearn.metrics import accuracy_score\n",
    "from sklearn.compose import ColumnTransformer\n",
    "from sklearn.preprocessing import StandardScaler\n",
    "from sklearn.impute import SimpleImputer\n",
    "from sklearn.svm import SVC\n",
    "from numpy.random import seed\n",
    "\n",
    "seed(2202)\n",
    "\n",
    "# Load the data from Kaggle\n",
    "df = pd.read_csv(\"train.csv\")\n",
    "test_df = pd.read_csv(\"test.csv\")\n",
    "\n",
    "print(df.columns)\n",
    "print(\"\")\n",
    "print(pd.concat((df, test_df)).info())"
   ]
  },
  {
   "cell_type": "markdown",
   "id": "14972f6c-ffc0-47a2-8906-372ff6d07e43",
   "metadata": {},
   "source": [
    "### Imputing the missing data points\n",
    "While the \"Age\"-column has many missing data points, the \"Name\"-column is complete. In addition to the person's name, this column also stores the person's title, which is useful for data imputation. We start by extracting this title."
   ]
  },
  {
   "cell_type": "code",
   "execution_count": 2,
   "id": "30e750fe-f529-46a2-aa33-d18118cf0f3b",
   "metadata": {},
   "outputs": [
    {
     "data": {
      "text/plain": [
       "Mr          517\n",
       "Miss        182\n",
       "Mrs         125\n",
       "Master       40\n",
       "Dr            7\n",
       "Rev           6\n",
       "Major         2\n",
       "Mlle          2\n",
       "Col           2\n",
       "Ms            1\n",
       "Sir           1\n",
       "Jonkheer      1\n",
       "Capt          1\n",
       "Countess      1\n",
       "Don           1\n",
       "Lady          1\n",
       "Mme           1\n",
       "Name: Title, dtype: int64"
      ]
     },
     "execution_count": 2,
     "metadata": {},
     "output_type": "execute_result"
    }
   ],
   "source": [
    "pd.concat((df,test_df)).isna().sum()\n",
    "df[\"Title\"] = df[\"Name\"].str.extract('([A-Za-z]+)\\.', expand = False)\n",
    "df[\"Title\"].value_counts()"
   ]
  },
  {
   "cell_type": "markdown",
   "id": "c61e5c9e-fac3-40a8-82f9-614fe9e386ae",
   "metadata": {},
   "source": [
    "As a first observation, according to Wikipedia, \"Master is an English honorific for boys and young men\". The same goes for \"Miss\". This is also the case in our data set:"
   ]
  },
  {
   "cell_type": "code",
   "execution_count": 3,
   "id": "38b54db4-d890-4b83-bfba-e454c467094e",
   "metadata": {},
   "outputs": [
    {
     "data": {
      "text/plain": [
       "<AxesSubplot:ylabel='Frequency'>"
      ]
     },
     "execution_count": 3,
     "metadata": {},
     "output_type": "execute_result"
    },
    {
     "data": {
      "image/png": "[encoded data removed]",
      "text/plain": [
       "<Figure size 432x288 with 1 Axes>"
      ]
     },
     "metadata": {
      "needs_background": "light"
     },
     "output_type": "display_data"
    }
   ],
   "source": [
    "df[df[\"Title\"] == \"Miss\"][\"Age\"].plot.hist()"
   ]
  },
  {
   "cell_type": "code",
   "execution_count": 4,
   "id": "8d5a3149-0443-422a-a8a3-67bc139d0201",
   "metadata": {},
   "outputs": [
    {
     "data": {
      "text/plain": [
       "<AxesSubplot:ylabel='Frequency'>"
      ]
     },
     "execution_count": 4,
     "metadata": {},
     "output_type": "execute_result"
    },
    {
     "data": {
      "image/png": "[encoded data removed]",
      "text/plain": [
       "<Figure size 432x288 with 1 Axes>"
      ]
     },
     "metadata": {
      "needs_background": "light"
     },
     "output_type": "display_data"
    }
   ],
   "source": [
    "df[df[\"Title\"] == \"Master\"][\"Age\"].plot.hist()"
   ]
  },
  {
   "cell_type": "markdown",
   "id": "462fa615-390f-4bec-8fe7-c815c4cccb5a",
   "metadata": {},
   "source": [
    "Thus, we will fill some of the missing \"Age\"-data with the mean age of the passengers sharing the same title."
   ]
  },
  {
   "cell_type": "code",
   "execution_count": 5,
   "id": "19a39753-a5a5-4f7a-9602-c2f65eb3579d",
   "metadata": {},
   "outputs": [],
   "source": [
    "mean_fill = [\"Miss\",\"Master\",\"Ms\",\"Dr\"]\n",
    "for title in mean_fill:\n",
    "    df.loc[(df[\"Age\"].isna()) & (df[\"Title\"] == title),\"Age\"] = df[df[\"Title\"] == title][\"Age\"].mean()"
   ]
  },
  {
   "cell_type": "markdown",
   "id": "08cc44ad-1bbb-4c8e-8669-dc0f3cbb0af7",
   "metadata": {},
   "source": [
    "It remains to impute the age data for people whose title is either \"Mr\" or \"Mrs\". In this case we look at the correlation of the \"Age\"-column with other features."
   ]
  },
  {
   "cell_type": "code",
   "execution_count": 6,
   "id": "516e2a7e-5b8d-4c94-a906-c28ddd8e2970",
   "metadata": {},
   "outputs": [
    {
     "name": "stdout",
     "output_type": "stream",
     "text": [
      "PassengerId   -0.016271\n",
      "Survived       0.023986\n",
      "Pclass        -0.396574\n",
      "Age            1.000000\n",
      "SibSp         -0.115114\n",
      "Parch          0.051149\n",
      "Fare           0.113297\n",
      "Name: Age, dtype: float64\n",
      "\n",
      "PassengerId    0.142935\n",
      "Survived      -0.008630\n",
      "Pclass        -0.256299\n",
      "Age            1.000000\n",
      "SibSp         -0.175120\n",
      "Parch          0.048735\n",
      "Fare           0.192679\n",
      "Name: Age, dtype: float64\n"
     ]
    }
   ],
   "source": [
    "print(df[df[\"Title\"] == \"Mr\"].corr()[\"Age\"])\n",
    "print(\"\")\n",
    "print(df[df[\"Title\"] == \"Mrs\"].corr()[\"Age\"])"
   ]
  },
  {
   "cell_type": "markdown",
   "id": "1097c193-522d-42f3-995d-c2ae59a980ba",
   "metadata": {},
   "source": [
    "There is some correlation with the \"Pclass\"-column, which describes the passenger's ticket class. Thus, we impute by taking the mean value of people sharing the same title and the same class."
   ]
  },
  {
   "cell_type": "code",
   "execution_count": 7,
   "id": "338fc461-0789-43b1-8c8d-ba0ef498b945",
   "metadata": {},
   "outputs": [],
   "source": [
    "for k in range(1,4):\n",
    "    df.loc[(df[\"Age\"].isna()) & (df[\"Title\"] == \"Mr\") & (df[\"Pclass\"] == k),\"Age\"] = df[(df[\"Pclass\"] == k) & (df[\"Title\"] == \"Mr\")][\"Age\"].mean()\n",
    "    df.loc[(df[\"Age\"].isna()) & (df[\"Title\"] == \"Mrs\") & (df[\"Pclass\"] == k),\"Age\"] = df[(df[\"Pclass\"] == k) & (df[\"Title\"] == \"Mrs\")][\"Age\"].mean()"
   ]
  },
  {
   "cell_type": "markdown",
   "id": "7ac067f4-bb0d-4dc8-bdba-ead7f0556b37",
   "metadata": {},
   "source": [
    "Next, we note that the \"Fare\"-column is missing a single item. Since it's also highly correlated with the passenger's ticket class (which does make sense), we will impute using the mean value of ticket costs within the same class."
   ]
  },
  {
   "cell_type": "code",
   "execution_count": 8,
   "id": "dfedb147-dabc-4eea-95bd-0dec02f1c172",
   "metadata": {},
   "outputs": [
    {
     "name": "stdout",
     "output_type": "stream",
     "text": [
      "PassengerId    0.012658\n",
      "Survived       0.257307\n",
      "Pclass        -0.549500\n",
      "Age            0.110165\n",
      "SibSp          0.159651\n",
      "Parch          0.216225\n",
      "Fare           1.000000\n",
      "Name: Fare, dtype: float64\n"
     ]
    }
   ],
   "source": [
    "print(df.corr()[\"Fare\"])\n",
    "df.loc[df[\"Fare\"].isna(),\"Fare\"] = df[df[\"Pclass\"] == 3][\"Fare\"].mean()"
   ]
  },
  {
   "cell_type": "markdown",
   "id": "9f94bbbd-643d-4eb1-a6af-6dc03c7781d0",
   "metadata": {},
   "source": [
    "Finally, note that the \"Ticket\"-column does not just store the ticket numbers, but also the location of the cabins. For this simple model, we do not need this extra information."
   ]
  },
  {
   "cell_type": "code",
   "execution_count": 9,
   "id": "702729f8-5d3d-4562-bd2b-fb81231b6002",
   "metadata": {},
   "outputs": [],
   "source": [
    "df[\"Ticket\"].head(5)\n",
    "df['Ticket'] = df[\"Ticket\"].str.split().apply(lambda x: x[-1])"
   ]
  },
  {
   "cell_type": "markdown",
   "id": "407be5b0-075a-4035-8945-fb39b0fd21b1",
   "metadata": {},
   "source": [
    "Converting to a number does not work yet, as some tickets lack a number (the ticket number simply states \"LINE\"). A quick search yields that those tickets were given out for free to employees of the \"American Line\". We will set their ticket number to zero."
   ]
  },
  {
   "cell_type": "code",
   "execution_count": 10,
   "id": "4f6b9ad8-7b01-47da-8505-d31f8697c1ed",
   "metadata": {},
   "outputs": [],
   "source": [
    "df.loc[df[\"Ticket\"] == \"LINE\",\"Ticket\"] = 0\n",
    "df.Ticket = df[\"Ticket\"].values.astype('int64')"
   ]
  },
  {
   "cell_type": "markdown",
   "id": "a05ff409-0d77-4083-80e5-aa2083ad527d",
   "metadata": {},
   "source": [
    "Our model will neither use the \"Embarked\" nor the \"Cabin\" data, which is why we won't impute the data for these two columns."
   ]
  },
  {
   "cell_type": "markdown",
   "id": "ba9ddc4b-9b8b-4a11-8cd3-2084f952b2c3",
   "metadata": {},
   "source": [
    "### Feature transformation and extraction\n",
    "- We transform the passenger's age, sex and the ticket costs to categorical variables.\n",
    "- We create a new feature called \"WoCh\" which indicates whether a passenger is either a woman or a child.\n",
    "- We calculate the family size from the given columns \"Parch\" and \"SibSp\", which count the number of parents or children, and the number of siblings or spouses on board, respectively.\n",
    "- Finally, we create an indicator variable which indicates whether the passenger is part of a family with children or not."
   ]
  },
  {
   "cell_type": "code",
   "execution_count": 11,
   "id": "aa87a0de-ef65-4bd4-b229-189075524b6f",
   "metadata": {},
   "outputs": [],
   "source": [
    "df[\"AgeBins\"] = pd.cut(df[\"Age\"], bins=pd.IntervalIndex.from_tuples([(-1, 15), (15, 35), (35, 50), (50, 120)]))\n",
    "df[\"AgeBins\"] = df[\"AgeBins\"].cat.codes\n",
    "df[\"Sex\"] = pd.get_dummies(df[\"Sex\"])[\"female\"]\n",
    "df[\"FareBins\"] = pd.cut(df[\"Fare\"], bins=pd.IntervalIndex.from_tuples([(-1, 50), (50, 150), (150, 350), (350, 1000)]))\n",
    "df[\"FareBins\"] = df[\"FareBins\"].cat.codes\n",
    "\n",
    "woch_titles = [\"Miss\",\"Mrs\",\"Master\",\"Mlle\",\"Mme\",\"Ms\",\"Countess\",\"Lady\"]\n",
    "df[\"WoCh\"] = df[\"Title\"].apply(func = lambda x: 1 if x in woch_titles else 0)\n",
    "df[\"PartOfFamilyWithChildren\"] = df[\"Parch\"].apply(func = lambda x: 1 if x > 0 else 0)\n",
    "df[\"FamilySize\"] = df[\"Parch\"] + df[\"SibSp\"] + 1"
   ]
  },
  {
   "cell_type": "markdown",
   "id": "29726b60-a46b-4e72-9710-57dd520a064c",
   "metadata": {},
   "source": [
    "We are now ready to build our model. We use a simple SVM with the radial basis function as kernel. Furthermore, we standardize the ticket class, the ticket number, the family size and the passenger's ID."
   ]
  },
  {
   "cell_type": "code",
   "execution_count": 12,
   "id": "6b3b05a5-1477-4ff7-8652-a3b966b1386e",
   "metadata": {},
   "outputs": [
    {
     "name": "stdout",
     "output_type": "stream",
     "text": [
      "Accuracy score: 0.8324022346368715\n"
     ]
    }
   ],
   "source": [
    "# Split the data\n",
    "X = df.drop(columns=\"Survived\")\n",
    "y = df[\"Survived\"]\n",
    "X_train, X_test, y_train, y_test = train_test_split(X, y, train_size = 0.8)\n",
    "\n",
    "# Create the pipeline\n",
    "features = [\"Pclass\",\"Sex\",\"AgeBins\",\"PartOfFamilyWithChildren\",\"Ticket\",\"FareBins\",\"FamilySize\",\"PassengerId\"]\n",
    "\n",
    "pipe = Pipeline(steps = [(\"select-features\", ColumnTransformer(transformers=[(\"select-features\", \"passthrough\", features)])),\n",
    "                         (\"fill-na\", SimpleImputer()),\n",
    "                         (\"scaling\", ColumnTransformer(transformers=[(\"scaler\", StandardScaler(), [0,4,6,7])], remainder=\"passthrough\")),\n",
    "                         (\"svm\", SVC(kernel=\"rbf\"))])\n",
    "                         \n",
    "pipe.fit(X_train,y_train)\n",
    "\n",
    "y_predict = pipe.predict(X_test)\n",
    "print(f\"Accuracy score: {accuracy_score(y_test,y_predict)}\")"
   ]
  },
  {
   "cell_type": "markdown",
   "id": "cc8c1366-e7f0-4cab-a107-a1e9ecbeb356",
   "metadata": {},
   "source": [
    "For submitting, the code below retrains the model on the entire available data (instead of splitting into a train and a test set) and outputs our predictions."
   ]
  },
  {
   "cell_type": "code",
   "execution_count": 13,
   "id": "645498f7-6a7b-4721-80c1-97da941a647b",
   "metadata": {},
   "outputs": [],
   "source": [
    "# The following function performs all of the preprocessing steps introduced above\n",
    "def preprocess(df):\n",
    "    df[\"Title\"] = df[\"Name\"].str.extract('([A-Za-z]+)\\.', expand = False)\n",
    "    \n",
    "    mean_fill = [\"Miss\",\"Master\",\"Ms\",\"Dr\"]\n",
    "    for title in mean_fill:\n",
    "        df.loc[(df[\"Age\"].isna()) & (df[\"Title\"] == title),\"Age\"] = df[df[\"Title\"] == title][\"Age\"].mean()\n",
    "    \n",
    "    for k in range(1,4):\n",
    "        df.loc[(df[\"Age\"].isna()) & (df[\"Title\"] == \"Mr\") & (df[\"Pclass\"] == k),\"Age\"] = df[(df[\"Pclass\"] == k) & (df[\"Title\"] == \"Mr\")][\"Age\"].mean()\n",
    "        df.loc[(df[\"Age\"].isna()) & (df[\"Title\"] == \"Mrs\") & (df[\"Pclass\"] == k),\"Age\"] = df[(df[\"Pclass\"] == k) & (df[\"Title\"] == \"Mrs\")][\"Age\"].mean()\n",
    "\n",
    "    df.loc[df[\"Fare\"].isna(),\"Fare\"] = df[df[\"Pclass\"] == 3][\"Fare\"].mean()\n",
    "    \n",
    "    df.loc[df[\"Ticket\"] == \"LINE\",\"Ticket\"] = 0\n",
    "    df['Ticket'] = df[\"Ticket\"].str.split().apply(lambda x: x[-1])\n",
    "    df.Ticket = df[\"Ticket\"].values.astype('int64')\n",
    "    \n",
    "    df[\"AgeBins\"] = pd.cut(df[\"Age\"], bins=pd.IntervalIndex.from_tuples([(-1, 15), (15, 35), (35, 50), (50, 120)]))\n",
    "    df[\"AgeBins\"] = df[\"AgeBins\"].cat.codes\n",
    "    \n",
    "    df[\"Sex\"] = pd.get_dummies(df[\"Sex\"])[\"female\"]\n",
    "    \n",
    "    df[\"FareBins\"] = pd.cut(df[\"Fare\"], bins=pd.IntervalIndex.from_tuples([(-1, 50), (50, 150), (150, 350), (350, 1000)]))\n",
    "    df[\"FareBins\"] = df[\"FareBins\"].cat.codes\n",
    "\n",
    "    woch_titles = [\"Miss\",\"Mrs\",\"Master\",\"Mlle\",\"Mme\",\"Ms\",\"Countess\",\"Lady\"]\n",
    "    df[\"WoCh\"] = df[\"Title\"].apply(func = lambda x: 1 if x in woch_titles else 0)\n",
    "    \n",
    "    df[\"PartOfFamilyWithChildren\"] = df[\"Parch\"].apply(func = lambda x: 1 if x > 0 else 0)\n",
    "    \n",
    "    df[\"FamilySize\"] = df[\"Parch\"] + df[\"SibSp\"] + 1\n",
    "    \n",
    "    return df"
   ]
  },
  {
   "cell_type": "code",
   "execution_count": 14,
   "id": "28a876fd-a093-4d68-9d19-87c3a7c1d73b",
   "metadata": {},
   "outputs": [],
   "source": [
    "pipe.fit(X,y) # Fit using the entire data\n",
    "test_df = preprocess(test_df)\n",
    "prediction = pd.DataFrame(pipe.predict(test_df))\n",
    "prediction[\"PassengerId\"] = test_df[\"PassengerId\"]\n",
    "prediction = prediction.set_index(\"PassengerId\").rename(columns={0:\"Survived\"})\n",
    "\n",
    "# The following command stores the output as .csv (does not work within this notebook)\n",
    "prediction.to_csv(\"results.csv\")"
   ]
  },
  {
   "cell_type": "code",
   "execution_count": null,
   "id": "b5be0356-c002-4c23-8cd1-fe20f01a7010",
   "metadata": {},
   "outputs": [],
   "source": []
  }
 ],
 "metadata": {
  "kernelspec": {
   "display_name": "Python 3",
   "language": "python",
   "name": "python3"
  },
  "language_info": {
   "codemirror_mode": {
    "name": "ipython",
    "version": 3
   },
   "file_extension": ".py",
   "mimetype": "text/x-python",
   "name": "python",
   "nbconvert_exporter": "python",
   "pygments_lexer": "ipython3",
   "version": "3.9.5"
  }
 },
 "nbformat": 4,
 "nbformat_minor": 5
}
